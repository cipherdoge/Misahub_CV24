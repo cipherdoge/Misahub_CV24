{
 "cells": [
  {
   "cell_type": "code",
   "execution_count": null,
   "id": "de8317d3-f768-4d0f-bf33-602d349a8caa",
   "metadata": {},
   "outputs": [],
   "source": [
    "#!pip install pillow ultralytics wandb"
   ]
  },
  {
   "cell_type": "code",
   "execution_count": null,
   "id": "5bee70e5-8ebf-4dab-b562-ef2f92a56390",
   "metadata": {},
   "outputs": [],
   "source": [
    "from PIL import Image\n",
    "from ultralytics import YOLO"
   ]
  },
  {
   "cell_type": "code",
   "execution_count": null,
   "id": "bbd11fdb-eb44-44cd-a6e5-bb9115142eb4",
   "metadata": {},
   "outputs": [],
   "source": [
    "model = YOLO(r\"yolov11x-cls\")"
   ]
  },
  {
   "cell_type": "code",
   "execution_count": null,
   "id": "10b5bf53-4513-42c9-a088-f320ccad5610",
   "metadata": {},
   "outputs": [],
   "source": [
    "results = model.train(data=r\"pif\"\n",
    ", epochs=15, imgsz=224, batch=64, patience= 300,verbose=True)"
   ]
  },
  {
   "cell_type": "code",
   "execution_count": null,
   "id": "e76e69f0-9597-4ca7-99a7-f1b06938bc94",
   "metadata": {},
   "outputs": [],
   "source": [
    "model = YOLO(r\"runs/classify/train/weights/best.pt\") #path to best from training\n",
    "metrics = model.val()"
   ]
  },
  {
   "cell_type": "code",
   "execution_count": null,
   "id": "9fa757de-88be-4ac6-bbf5-fd337ed3c331",
   "metadata": {},
   "outputs": [],
   "source": [
    "metrics"
   ]
  }
 ],
 "metadata": {
  "kernelspec": {
   "display_name": "Python 3 (ipykernel)",
   "language": "python",
   "name": "python3"
  },
  "language_info": {
   "codemirror_mode": {
    "name": "ipython",
    "version": 3
   },
   "file_extension": ".py",
   "mimetype": "text/x-python",
   "name": "python",
   "nbconvert_exporter": "python",
   "pygments_lexer": "ipython3",
   "version": "3.10.12"
  }
 },
 "nbformat": 4,
 "nbformat_minor": 5
}
